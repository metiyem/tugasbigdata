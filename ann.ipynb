
from sklearn.model_selection import train_test_split, KFold
from sklearn.metrics import roc_curve, auc, confusion_matrix, accuracy_score, precision_score, recall_score, f1_score, classification_report
import matplotlib.pyplot as plt
import pandas as pd
from keras.models import Sequential
from keras.layers import Dense
from sklearn.preprocessing import LabelEncoder

def plot_training_distribution(y_train):
    train_counts = pd.Series(y_train).value_counts()
    fig, ax = plt.subplots()
    train_counts.plot(kind='bar', ax=ax, color='b', alpha=0.7)
    ax.set_xlabel('Label')
    ax.set_ylabel('Jumlah')
    ax.set_title('Distribusi Data Training')
    plt.xticks(rotation=45)
    plt.show()

# Mengimpor dan mengonversi label menjadi numerik
label_encoder = LabelEncoder()
data_clean['label'] = label_encoder.fit_transform(data_clean['label'])

# Memastikan hanya ada dua kelas (biner)
assert len(label_encoder.classes_) == 2, "Label harus memiliki dua kelas untuk klasifikasi biner."

# Split data
x_train, x_test, y_train, y_test = train_test_split(x_tfidf, data_clean['label'], test_size=0.25, random_state=42)

# Membuat model ANN
model = Sequential()
model.add(Dense(64, input_dim=x_train.shape[1], activation='relu'))
model.add(Dense(32, activation='relu'))
model.add(Dense(1, activation='sigmoid'))

model.compile(loss='binary_crossentropy', optimizer='adam', metrics=['accuracy'])

# Melatih model
model.fit(x_train, y_train, epochs=10, batch_size=10, verbose=1)

# Memprediksi label untuk data uji
y_pred_prob = model.predict(x_test).ravel()
y_pred = (y_pred_prob > 0.5).astype(int)

# Cross-validation dengan KFold
kf = KFold(n_splits=7)
x_array = x_tfidf.toarray()
y_array = data_clean['label']

def cross_val(model, X, y, kf):
    acc = []
    pcs = []
    rec = []
    f1s = []

    for train_index, test_index in kf.split(X, y):
        x_train, x_test = X[train_index], X[test_index]
        y_train, y_test = y[train_index], y[test_index]
        
        model.fit(x_train, y_train, epochs=10, batch_size=10, verbose=0)
        y_pred_prob = model.predict(x_test).ravel()
        y_pred = (y_pred_prob > 0.5).astype(int)
        
        acc.append(accuracy_score(y_test, y_pred))
        pcs.append(precision_score(y_test, y_pred, zero_division=0))
        rec.append(recall_score(y_test, y_pred, zero_division=0))
        f1s.append(f1_score(y_test, y_pred, zero_division=0))
        
        print(classification_report(y_test, y_pred, zero_division=0))
        print(f'Confusion matrix:\n{confusion_matrix(y_test, y_pred)}')
        print('======================================================\n')
    
    avg_acc = np.mean(acc)
    avg_pcs = np.mean(pcs)
    avg_rec = np.mean(rec)
    avg_f1s = np.mean(f1s)
    
    print(f'Average accuracy = {avg_acc}')
    print(f'Average precision = {avg_pcs}')
    print(f'Average recall = {avg_rec}')
    print(f'Average F1-score = {avg_f1s}')
    
    return avg_acc, avg_pcs, avg_rec, avg_f1s

# Membuat model ANN untuk validasi silang
model_cv = Sequential()
model_cv.add(Dense(64, input_dim=x_array.shape[1], activation='relu'))
model_cv.add(Dense(32, activation='relu'))
model_cv.add(Dense(1, activation='sigmoid'))

model_cv.compile(loss='binary_crossentropy', optimizer='adam', metrics=['accuracy'])

cross_val(model_cv, x_array, y_array, kf)

# Kurva ROC dan AUC untuk klasifikasi biner
# Kurva ROC dan AUC
fpr, tpr, thresholds = roc_curve(y_test, y_pred_prob)
roc_auc = auc(fpr, tpr)

# Plot kurva ROC
plt.figure()
plt.plot(fpr, tpr, color='darkorange', lw=2, label='Kurva ROC (luas = %0.2f)' % roc_auc)
plt.plot([0, 1], [0, 1], color='navy', lw=2, linestyle='--')
plt.xlim([0.0, 1.0])
plt.ylim([0.0, 1.05])
plt.xlabel('False Positive Rate')
plt.ylabel('True Positive Rate')
plt.title('Receiver Operating Characteristic')
plt.legend(loc="lower right")
plt.show()

# Confusion matrix dan akurasi
conf_matrix = confusion_matrix(y_test, y_pred)
accuracy = accuracy_score(y_test, y_pred)

print("Confusion Matrix:\n", conf_matrix)
print("Accuracy: ", accuracy)
if accuracy > 0.7:
    plot_training_distribution(y_train)
